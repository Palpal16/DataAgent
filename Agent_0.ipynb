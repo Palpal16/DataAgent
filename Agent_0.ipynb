{
 "cells": [
  {
   "cell_type": "markdown",
   "metadata": {},
   "source": [
    "# Evaluation of the agent (VisualAgent)"
   ]
  },
  {
   "cell_type": "code",
   "execution_count": 1,
   "metadata": {},
   "outputs": [
    {
     "name": "stdout",
     "output_type": "stream",
     "text": [
      "Requirement already satisfied: litellm in /Users/simop/miniconda3/lib/python3.11/site-packages (1.77.5)\n",
      "Requirement already satisfied: aiohttp>=3.10 in /Users/simop/miniconda3/lib/python3.11/site-packages (from litellm) (3.12.15)\n",
      "Requirement already satisfied: click in /Users/simop/miniconda3/lib/python3.11/site-packages (from litellm) (8.3.0)\n",
      "Requirement already satisfied: fastuuid>=0.13.0 in /Users/simop/miniconda3/lib/python3.11/site-packages (from litellm) (0.13.5)\n",
      "Requirement already satisfied: httpx>=0.23.0 in /Users/simop/miniconda3/lib/python3.11/site-packages (from litellm) (0.27.0)\n",
      "Requirement already satisfied: importlib-metadata>=6.8.0 in /Users/simop/miniconda3/lib/python3.11/site-packages (from litellm) (8.7.0)\n",
      "Requirement already satisfied: jinja2<4.0.0,>=3.1.2 in /Users/simop/miniconda3/lib/python3.11/site-packages (from litellm) (3.1.5)\n",
      "Requirement already satisfied: jsonschema<5.0.0,>=4.22.0 in /Users/simop/miniconda3/lib/python3.11/site-packages (from litellm) (4.23.0)\n",
      "Requirement already satisfied: openai>=1.99.5 in /Users/simop/miniconda3/lib/python3.11/site-packages (from litellm) (1.109.1)\n",
      "Requirement already satisfied: pydantic<3.0.0,>=2.5.0 in /Users/simop/miniconda3/lib/python3.11/site-packages (from litellm) (2.11.9)\n",
      "Requirement already satisfied: python-dotenv>=0.2.0 in /Users/simop/miniconda3/lib/python3.11/site-packages (from litellm) (1.1.1)\n",
      "Requirement already satisfied: tiktoken>=0.7.0 in /Users/simop/miniconda3/lib/python3.11/site-packages (from litellm) (0.11.0)\n",
      "Requirement already satisfied: tokenizers in /Users/simop/miniconda3/lib/python3.11/site-packages (from litellm) (0.21.0)\n",
      "Requirement already satisfied: MarkupSafe>=2.0 in /Users/simop/miniconda3/lib/python3.11/site-packages (from jinja2<4.0.0,>=3.1.2->litellm) (3.0.2)\n",
      "Requirement already satisfied: attrs>=22.2.0 in /Users/simop/miniconda3/lib/python3.11/site-packages (from jsonschema<5.0.0,>=4.22.0->litellm) (24.3.0)\n",
      "Requirement already satisfied: jsonschema-specifications>=2023.03.6 in /Users/simop/miniconda3/lib/python3.11/site-packages (from jsonschema<5.0.0,>=4.22.0->litellm) (2023.7.1)\n",
      "Requirement already satisfied: referencing>=0.28.4 in /Users/simop/miniconda3/lib/python3.11/site-packages (from jsonschema<5.0.0,>=4.22.0->litellm) (0.30.2)\n",
      "Requirement already satisfied: rpds-py>=0.7.1 in /Users/simop/miniconda3/lib/python3.11/site-packages (from jsonschema<5.0.0,>=4.22.0->litellm) (0.22.3)\n",
      "Requirement already satisfied: annotated-types>=0.6.0 in /Users/simop/miniconda3/lib/python3.11/site-packages (from pydantic<3.0.0,>=2.5.0->litellm) (0.7.0)\n",
      "Requirement already satisfied: pydantic-core==2.33.2 in /Users/simop/miniconda3/lib/python3.11/site-packages (from pydantic<3.0.0,>=2.5.0->litellm) (2.33.2)\n",
      "Requirement already satisfied: typing-extensions>=4.12.2 in /Users/simop/miniconda3/lib/python3.11/site-packages (from pydantic<3.0.0,>=2.5.0->litellm) (4.15.0)\n",
      "Requirement already satisfied: typing-inspection>=0.4.0 in /Users/simop/miniconda3/lib/python3.11/site-packages (from pydantic<3.0.0,>=2.5.0->litellm) (0.4.2)\n",
      "Requirement already satisfied: aiohappyeyeballs>=2.5.0 in /Users/simop/miniconda3/lib/python3.11/site-packages (from aiohttp>=3.10->litellm) (2.6.1)\n",
      "Requirement already satisfied: aiosignal>=1.4.0 in /Users/simop/miniconda3/lib/python3.11/site-packages (from aiohttp>=3.10->litellm) (1.4.0)\n",
      "Requirement already satisfied: frozenlist>=1.1.1 in /Users/simop/miniconda3/lib/python3.11/site-packages (from aiohttp>=3.10->litellm) (1.4.1)\n",
      "Requirement already satisfied: multidict<7.0,>=4.5 in /Users/simop/miniconda3/lib/python3.11/site-packages (from aiohttp>=3.10->litellm) (6.0.5)\n",
      "Requirement already satisfied: propcache>=0.2.0 in /Users/simop/miniconda3/lib/python3.11/site-packages (from aiohttp>=3.10->litellm) (0.3.2)\n",
      "Requirement already satisfied: yarl<2.0,>=1.17.0 in /Users/simop/miniconda3/lib/python3.11/site-packages (from aiohttp>=3.10->litellm) (1.20.1)\n",
      "Requirement already satisfied: idna>=2.0 in /Users/simop/miniconda3/lib/python3.11/site-packages (from yarl<2.0,>=1.17.0->aiohttp>=3.10->litellm) (3.7)\n",
      "Requirement already satisfied: anyio in /Users/simop/miniconda3/lib/python3.11/site-packages (from httpx>=0.23.0->litellm) (4.6.2)\n",
      "Requirement already satisfied: certifi in /Users/simop/miniconda3/lib/python3.11/site-packages (from httpx>=0.23.0->litellm) (2025.1.31)\n",
      "Requirement already satisfied: httpcore==1.* in /Users/simop/miniconda3/lib/python3.11/site-packages (from httpx>=0.23.0->litellm) (1.0.2)\n",
      "Requirement already satisfied: sniffio in /Users/simop/miniconda3/lib/python3.11/site-packages (from httpx>=0.23.0->litellm) (1.3.0)\n",
      "Requirement already satisfied: h11<0.15,>=0.13 in /Users/simop/miniconda3/lib/python3.11/site-packages (from httpcore==1.*->httpx>=0.23.0->litellm) (0.14.0)\n",
      "Requirement already satisfied: zipp>=3.20 in /Users/simop/miniconda3/lib/python3.11/site-packages (from importlib-metadata>=6.8.0->litellm) (3.23.0)\n",
      "Requirement already satisfied: distro<2,>=1.7.0 in /Users/simop/miniconda3/lib/python3.11/site-packages (from openai>=1.99.5->litellm) (1.9.0)\n",
      "Requirement already satisfied: jiter<1,>=0.4.0 in /Users/simop/miniconda3/lib/python3.11/site-packages (from openai>=1.99.5->litellm) (0.11.0)\n",
      "Requirement already satisfied: tqdm>4 in /Users/simop/miniconda3/lib/python3.11/site-packages (from openai>=1.99.5->litellm) (4.67.1)\n",
      "Requirement already satisfied: regex>=2022.1.18 in /Users/simop/miniconda3/lib/python3.11/site-packages (from tiktoken>=0.7.0->litellm) (2024.11.6)\n",
      "Requirement already satisfied: requests>=2.26.0 in /Users/simop/miniconda3/lib/python3.11/site-packages (from tiktoken>=0.7.0->litellm) (2.32.5)\n",
      "Requirement already satisfied: charset_normalizer<4,>=2 in /Users/simop/miniconda3/lib/python3.11/site-packages (from requests>=2.26.0->tiktoken>=0.7.0->litellm) (3.3.2)\n",
      "Requirement already satisfied: urllib3<3,>=1.21.1 in /Users/simop/miniconda3/lib/python3.11/site-packages (from requests>=2.26.0->tiktoken>=0.7.0->litellm) (2.3.0)\n",
      "Requirement already satisfied: huggingface-hub<1.0,>=0.16.4 in /Users/simop/miniconda3/lib/python3.11/site-packages (from tokenizers->litellm) (0.28.1)\n",
      "Requirement already satisfied: filelock in /Users/simop/miniconda3/lib/python3.11/site-packages (from huggingface-hub<1.0,>=0.16.4->tokenizers->litellm) (3.13.1)\n",
      "Requirement already satisfied: fsspec>=2023.5.0 in /Users/simop/miniconda3/lib/python3.11/site-packages (from huggingface-hub<1.0,>=0.16.4->tokenizers->litellm) (2024.3.1)\n",
      "Requirement already satisfied: packaging>=20.9 in /Users/simop/miniconda3/lib/python3.11/site-packages (from huggingface-hub<1.0,>=0.16.4->tokenizers->litellm) (24.2)\n",
      "Requirement already satisfied: pyyaml>=5.1 in /Users/simop/miniconda3/lib/python3.11/site-packages (from huggingface-hub<1.0,>=0.16.4->tokenizers->litellm) (6.0.2)\n",
      "Note: you may need to restart the kernel to use updated packages.\n"
     ]
    }
   ],
   "source": [
    "%pip  install litellm"
   ]
  },
  {
   "cell_type": "code",
   "execution_count": 2,
   "metadata": {},
   "outputs": [],
   "source": [
    "import warnings\n",
    "warnings.filterwarnings('ignore')"
   ]
  },
  {
   "cell_type": "code",
   "execution_count": 3,
   "metadata": {},
   "outputs": [],
   "source": [
    "# === Base ===\n",
    "import os\n",
    "import json\n",
    "import pandas as pd\n",
    "from tqdm import tqdm\n",
    "\n",
    "# === Phoenix core ===\n",
    "import phoenix as px\n",
    "from phoenix.trace import SpanEvaluations\n",
    "from phoenix.trace.dsl import SpanQuery\n",
    "\n",
    "# === Evaluaciones automáticas ===\n",
    "from phoenix.evals import (\n",
    "    TOOL_CALLING_PROMPT_TEMPLATE,\n",
    "    llm_classify,\n",
    "    PromptTemplate,\n",
    ")\n",
    "\n",
    "\n",
    "# === LLM local (ej. llama.cpp o llamafile) ===\n",
    "#from phoenix.evals.models import \n",
    "\n",
    "# === Extra ===\n",
    "from openinference.instrumentation import suppress_tracing\n",
    "import nest_asyncio\n",
    "nest_asyncio.apply()\n",
    "import pprint"
   ]
  },
  {
   "cell_type": "code",
   "execution_count": 4,
   "metadata": {},
   "outputs": [],
   "source": [
    "os.environ['OLLAMA_API_BASE']= 'http://localhost:11434'"
   ]
  },
  {
   "cell_type": "code",
   "execution_count": 5,
   "metadata": {},
   "outputs": [],
   "source": [
    "PROJECT_NAME = \"evaluating-agent\""
   ]
  },
  {
   "cell_type": "code",
   "execution_count": null,
   "metadata": {},
   "outputs": [
    {
     "name": "stdout",
     "output_type": "stream",
     "text": [
      "<module 'langgraph.version' from '/Users/simop/miniconda3/lib/python3.11/site-packages/langgraph/version.py'>\n",
      "🔭 OpenTelemetry Tracing Details 🔭\n",
      "|  Phoenix Project: evaluating-agent\n",
      "|  Span Processor: SimpleSpanProcessor\n",
      "|  Collector Endpoint: https://app.phoenix.arize.com/v1/traces\n",
      "|  Transport: HTTP + protobuf\n",
      "|  Transport Headers: {'api_key': '****'}\n",
      "|  \n",
      "|  Using a default SpanProcessor. `add_span_processor` will overwrite this default.\n",
      "|  \n",
      "|  ⚠️ WARNING: It is strongly advised to use a BatchSpanProcessor in production environments.\n",
      "|  \n",
      "|  `register` has set this TracerProvider as the global OpenTelemetry default.\n",
      "|  To disable this behavior, call `register` with `set_global_tracer_provider=False`.\n",
      "\n"
     ]
    }
   ],
   "source": [
    "from utils_0 import run_graph_with_tracing, start_main_span\n"
   ]
  },
  {
   "cell_type": "code",
   "execution_count": 7,
   "metadata": {},
   "outputs": [],
   "source": [
    "'''from phoenix.evals.models import BaseModel\n",
    "from typing import Optional, Sequence, Union, Any\n",
    "from langchain_ollama import ChatOllama\n",
    "import asyncio'\n",
    "'''\n",
    "\n",
    "from phoenix.evals import llm_classify, TOOL_CALLING_PROMPT_TEMPLATE, PromptTemplate, LiteLLMModel\n",
    "from litellm import completion\n"
   ]
  },
  {
   "cell_type": "code",
   "execution_count": 8,
   "metadata": {},
   "outputs": [],
   "source": [
    "# === Correct Phoenix Trace Querying ===\n",
    "from phoenix.trace import SpanEvaluations\n",
    "\n",
    "# Define evaluation queries properly\n",
    "sql_query = (\n",
    "    SpanQuery()\n",
    "    .where(\"name == 'sql_query_exec' and span_kind == 'TOOL'\")\n",
    ").select(\n",
    "    question=\"input.value\",\n",
    "    query_gen=\"output.value\",\n",
    ")\n",
    "\n",
    "analysis_query = (\n",
    "    SpanQuery()\n",
    "    .where(\"name == 'data_analysis' and span_kind == 'TOOL'\")\n",
    ").select(\n",
    "    query=\"input.value\",\n",
    "    response=\"output.value\",\n",
    ")\n",
    "\n",
    "viz_query = (\n",
    "    SpanQuery()\n",
    "    .where(\"name == 'gen_visualization' and span_kind == 'TOOL'\")\n",
    ").select(\n",
    "    input=\"input.value\",\n",
    "    generated_code=\"output.value\",\n",
    ")\n",
    "\n",
    "decide_query = (\n",
    "    SpanQuery()\n",
    "    .where(\"span_kind == 'TOOL' and name == 'decide_tool'\")\n",
    ").select(\n",
    "    question=\"input.value\",\n",
    "    tool_call=\"output.value\",\n",
    ")"
   ]
  },
  {
   "cell_type": "markdown",
   "metadata": {},
   "source": [
    "Create loop to see multiple times the difference in the \"re-runs\"\n",
    "1. Use multiple type of prompts styles for testing\n",
    "2. Human in the loop?"
   ]
  },
  {
   "cell_type": "markdown",
   "metadata": {},
   "source": [
    "1. complete\n",
    "2. How to save a csv file with the output of the traces.\n",
    "3. Try to make a decision based on different branches and parallelization\n",
    "4. cook up a docker container\n",
    "5. Try access with the server"
   ]
  },
  {
   "cell_type": "code",
   "execution_count": 12,
   "metadata": {},
   "outputs": [
    {
     "name": "stdout",
     "output_type": "stream",
     "text": [
      "[LangGraph] Starting LangGraph execution with tracing\n",
      "\n",
      "Selected tool: lookup_sales_data\n",
      "Generated SQL Query:\n",
      " SELECT SKU_Coded FROM sales GROUP BY SKU_Coded ORDER BY SUM(Total_Sale_Value) DESC LIMIT 1\n",
      "\n",
      "Selected tool: analyzing_data\n",
      "Data to analyze:\n",
      "    SKU_Coded\n",
      "0    6200700\n",
      "\n",
      "Selected tool: lookup_sales_data\n",
      "Generated SQL Query:\n",
      " SELECT SKU_Coded FROM sales GROUP BY SKU_Coded ORDER BY SUM(Total_Sale_Value) DESC LIMIT 1\n",
      "\n",
      "Selected tool: analyzing_data\n",
      "Data to analyze:\n",
      "    SKU_Coded\n",
      "0    6200700\n",
      "\n",
      "Selected tool: end\n",
      "[LangGraph] LangGraph execution completed\n"
     ]
    }
   ],
   "source": [
    "input_state = {\n",
    "    \"prompt\": \"What was the most popular product SKU?\",\n",
    "}\n",
    "ret = run_graph_with_tracing(input_state)"
   ]
  },
  {
   "cell_type": "code",
   "execution_count": 10,
   "metadata": {},
   "outputs": [
    {
     "name": "stderr",
     "output_type": "stream",
     "text": [
      "Processing questions:   0%|          | 0/5 [00:00<?, ?it/s]"
     ]
    },
    {
     "name": "stdout",
     "output_type": "stream",
     "text": [
      "[LangGraph] Starting LangGraph execution with tracing\n",
      "\n",
      "Selected tool: lookup_sales_data\n",
      "Generated SQL Query:\n",
      " SELECT SKU_Coded FROM sales GROUP BY SKU_Coded ORDER BY SUM(Total_Sale_Value) DESC LIMIT 1\n",
      "\n",
      "Selected tool: analyzing_data\n",
      "Data to analyze:\n",
      "    SKU_Coded\n",
      "0    6200700\n",
      "\n",
      "Selected tool: lookup_sales_data\n",
      "Generated SQL Query:\n",
      " SELECT SKU_Coded FROM sales GROUP BY SKU_Coded ORDER BY SUM(Total_Sale_Value) DESC LIMIT 1\n",
      "\n",
      "Selected tool: analyzing_data\n",
      "Data to analyze:\n",
      "    SKU_Coded\n",
      "0    6200700\n",
      "\n",
      "Selected tool: end\n"
     ]
    },
    {
     "name": "stderr",
     "output_type": "stream",
     "text": [
      "Processing questions:  20%|██        | 1/5 [00:33<02:12, 33.04s/it]"
     ]
    },
    {
     "name": "stdout",
     "output_type": "stream",
     "text": [
      "[LangGraph] LangGraph execution completed\n",
      "[LangGraph] Starting LangGraph execution with tracing\n",
      "\n",
      "Selected tool: lookup_sales_data\n",
      "Generated SQL Query:\n",
      " SELECT SUM(Total_Sale_Value) FROM sales\n",
      "\n",
      "Selected tool: analyzing_data\n",
      "Data to analyze:\n",
      "    sum(Total_Sale_Value)\n",
      "0           1.327264e+07\n",
      "\n",
      "Selected tool: analyzing_data\n",
      "Data to analyze:\n",
      "    sum(Total_Sale_Value)\n",
      "0           1.327264e+07\n",
      "\n",
      "Selected tool: end\n"
     ]
    },
    {
     "name": "stderr",
     "output_type": "stream",
     "text": [
      "Processing questions:  40%|████      | 2/5 [00:53<01:16, 25.51s/it]"
     ]
    },
    {
     "name": "stdout",
     "output_type": "stream",
     "text": [
      "[LangGraph] LangGraph execution completed\n",
      "[LangGraph] Starting LangGraph execution with tracing\n",
      "\n",
      "Selected tool: lookup_sales_data\n",
      "Generated SQL Query:\n",
      " SELECT Store_Number FROM sales GROUP BY Store_Number ORDER BY SUM(Total_Sale_Value) DESC LIMIT 1\n",
      "\n",
      "Selected tool: analyzing_data\n",
      "Data to analyze:\n",
      "    Store_Number\n",
      "0          2970\n",
      "\n",
      "Selected tool: lookup_sales_data\n",
      "Generated SQL Query:\n",
      " SELECT Store_Number FROM sales GROUP BY Store_Number ORDER BY SUM(Total_Sale_Value) DESC LIMIT 1\n",
      "\n",
      "Selected tool: analyzing_data\n",
      "Data to analyze:\n",
      "    Store_Number\n",
      "0          2970\n",
      "\n",
      "Selected tool: end\n",
      "[LangGraph] LangGraph execution completed\n"
     ]
    },
    {
     "name": "stderr",
     "output_type": "stream",
     "text": [
      "Processing questions:  60%|██████    | 3/5 [01:17<00:49, 24.86s/it]"
     ]
    },
    {
     "name": "stdout",
     "output_type": "stream",
     "text": [
      "[LangGraph] Starting LangGraph execution with tracing\n",
      "\n",
      "Selected tool: lookup_sales_data\n",
      "Generated SQL Query:\n",
      " SELECT Store_Number, SUM(Total_Sale_Value) FROM sales GROUP BY Store_Number\n",
      "\n",
      "Selected tool: create_visualization\n",
      "\n",
      "Selected tool: analyzing_data\n",
      "Data to analyze:\n",
      "     Store_Number  sum(Total_Sale_Value)\n",
      "0           3410          410567.848126\n",
      "1            990          378433.018639\n",
      "2           1650          580443.007953\n",
      "3            880          420302.088397\n",
      "4            550          229727.498752\n",
      "5           4180          272208.118542\n",
      "6            330          370503.687331\n",
      "7           1210          508393.767785\n",
      "8           1760          350747.617798\n",
      "9           2750          453664.808068\n",
      "10          1980          242290.828499\n",
      "11          2310          412579.388504\n",
      "12          2200          361173.288199\n",
      "13          3630          405034.547846\n",
      "14          1870          401070.997685\n",
      "15          3190          335035.018792\n",
      "16          1100          497509.528013\n",
      "17          3300          619660.167018\n",
      "18          2420          406715.767402\n",
      "19           660          343594.978075\n",
      "20           770          292968.918642\n",
      "21          2860          132320.519487\n",
      "22          3520          145701.079372\n",
      "23          1320          592832.067579\n",
      "24          3080          495458.238811\n",
      "25          4840          389056.668316\n",
      "26          2090          309996.247965\n",
      "27          2640          308990.318559\n",
      "28          4070          322307.968330\n",
      "29          1540          427777.427815\n",
      "30          4730          239711.708869\n",
      "31          2970          836341.327191\n",
      "32          3740          359729.808228\n",
      "33          2530          324046.518720\n",
      "34          4400           95745.620250\n",
      "\n",
      "Selected tool: create_visualization\n",
      "\n",
      "Selected tool: analyzing_data\n",
      "Data to analyze:\n",
      "     Store_Number  sum(Total_Sale_Value)\n",
      "0           3410          410567.848126\n",
      "1            990          378433.018639\n",
      "2           1650          580443.007953\n",
      "3            880          420302.088397\n",
      "4            550          229727.498752\n",
      "5           4180          272208.118542\n",
      "6            330          370503.687331\n",
      "7           1210          508393.767785\n",
      "8           1760          350747.617798\n",
      "9           2750          453664.808068\n",
      "10          1980          242290.828499\n",
      "11          2310          412579.388504\n",
      "12          2200          361173.288199\n",
      "13          3630          405034.547846\n",
      "14          1870          401070.997685\n",
      "15          3190          335035.018792\n",
      "16          1100          497509.528013\n",
      "17          3300          619660.167018\n",
      "18          2420          406715.767402\n",
      "19           660          343594.978075\n",
      "20           770          292968.918642\n",
      "21          2860          132320.519487\n",
      "22          3520          145701.079372\n",
      "23          1320          592832.067579\n",
      "24          3080          495458.238811\n",
      "25          4840          389056.668316\n",
      "26          2090          309996.247965\n",
      "27          2640          308990.318559\n",
      "28          4070          322307.968330\n",
      "29          1540          427777.427815\n",
      "30          4730          239711.708869\n",
      "31          2970          836341.327191\n",
      "32          3740          359729.808228\n",
      "33          2530          324046.518720\n",
      "34          4400           95745.620250\n",
      "\n",
      "Selected tool: end\n",
      "[LangGraph] LangGraph execution completed\n"
     ]
    },
    {
     "name": "stderr",
     "output_type": "stream",
     "text": [
      "Processing questions:  80%|████████  | 4/5 [02:08<00:35, 35.25s/it]"
     ]
    },
    {
     "name": "stdout",
     "output_type": "stream",
     "text": [
      "[LangGraph] Starting LangGraph execution with tracing\n",
      "\n",
      "Selected tool: lookup_sales_data\n",
      "Generated SQL Query:\n",
      " SELECT AVG(Total_Sale_Value) FROM sales\n",
      "\n",
      "Selected tool: analyzing_data\n",
      "Data to analyze:\n",
      "    avg(Total_Sale_Value)\n",
      "0              19.018132\n",
      "\n",
      "Selected tool: analyzing_data\n",
      "Data to analyze:\n",
      "    avg(Total_Sale_Value)\n",
      "0              19.018132\n",
      "\n",
      "Selected tool: end\n",
      "[LangGraph] LangGraph execution completed\n"
     ]
    },
    {
     "name": "stderr",
     "output_type": "stream",
     "text": [
      "Processing questions: 100%|██████████| 5/5 [02:22<00:00, 28.44s/it]\n"
     ]
    }
   ],
   "source": [
    "agent_questions = [\n",
    "    \"What was the most popular product SKU?\",\n",
    "    \"What was the total revenue across all stores?\",\n",
    "    \"Which store had the highest sales volume?\",\n",
    "    \"Create a bar chart showing total sales by store\",\n",
    "    \"What was the average transaction value?\"\n",
    "]\n",
    "\n",
    "for question in tqdm(agent_questions, desc=\"Processing questions\"):\n",
    "    try:\n",
    "        input_state = {\n",
    "            \"prompt\": question,\n",
    "        }\n",
    "        ret = run_graph_with_tracing(input_state)\n",
    "        print()\n",
    "    except Exception as e:\n",
    "        print(f\"Error processing question: {question}\")\n",
    "        print(e)\n",
    "        continue"
   ]
  },
  {
   "cell_type": "code",
   "execution_count": 11,
   "metadata": {},
   "outputs": [
    {
     "data": {
      "text/plain": [
       "{'prompt': 'What was the average transaction value?',\n",
       " 'data': '   avg(Total_Sale_Value)\\n0              19.018132',\n",
       " 'analyze_data': 'The average transaction value is $19.02.',\n",
       " 'answer': ['The average transaction value is $19.02.',\n",
       "  'The average transaction value is $19.02.'],\n",
       " 'visualization_goal': None,\n",
       " 'chart_config': None,\n",
       " 'tool_choice': 'end'}"
      ]
     },
     "execution_count": 11,
     "metadata": {},
     "output_type": "execute_result"
    }
   ],
   "source": [
    "ret"
   ]
  }
 ],
 "metadata": {
  "kernelspec": {
   "display_name": "base",
   "language": "python",
   "name": "python3"
  },
  "language_info": {
   "codemirror_mode": {
    "name": "ipython",
    "version": 3
   },
   "file_extension": ".py",
   "mimetype": "text/x-python",
   "name": "python",
   "nbconvert_exporter": "python",
   "pygments_lexer": "ipython3",
   "version": "3.11.11"
  }
 },
 "nbformat": 4,
 "nbformat_minor": 4
}
