{
 "cells": [
  {
   "cell_type": "code",
   "execution_count": 1,
   "id": "5291a85b",
   "metadata": {},
   "outputs": [],
   "source": [
    "#%pip  install litellm\n",
    "%load_ext autoreload\n",
    "%autoreload 2"
   ]
  },
  {
   "cell_type": "code",
   "execution_count": 2,
   "id": "809809dd",
   "metadata": {},
   "outputs": [],
   "source": [
    "# Optional: ensure deps (uncomment if needed)\n",
    "# %pip install -q langgraph langchain-ollama duckdb pandas pyarrow matplotlib langchain-ollama\n",
    "\n",
    "from Agent.data_agent import SalesDataAgent\n",
    "\n",
    "# Initialize the agent (uses default data path: data/Store_Sales_Price_Elasticity_Promotions_Data.parquet)\n",
    "agent = SalesDataAgent(\n",
    "    model=\"llama3.2:3b\",       # requires Ollama running locally with this model pulled\n",
    "    temperature=0.1,\n",
    "    max_tokens=2000,\n",
    "    streaming=True\n",
    ")\n"
   ]
  },
  {
   "cell_type": "code",
   "execution_count": 3,
   "id": "82ca227e",
   "metadata": {},
   "outputs": [
    {
     "name": "stdout",
     "output_type": "stream",
     "text": [
      "Server is running locally\n",
      "Ollama is running locally\n"
     ]
    },
    {
     "data": {
      "text/plain": [
       "True"
      ]
     },
     "execution_count": 3,
     "metadata": {},
     "output_type": "execute_result"
    }
   ],
   "source": [
    "agent.check_model()"
   ]
  },
  {
   "cell_type": "code",
   "execution_count": null,
   "id": "db22dce3",
   "metadata": {},
   "outputs": [
    {
     "name": "stdout",
     "output_type": "stream",
     "text": [
      "Running the graph...\n"
     ]
    }
   ],
   "source": [
    "# Run a prompt; optionally pass a visualization goal\n",
    "result = agent.run(\"Show me the sales in Nov 2021\", visualization_goal=\"Sales trend for Nov 2021\")\n",
    "\n",
    "# Inspect results\n",
    "print(\"Final tool:\", result.get(\"tool_choice\"))\n",
    "print(\"Chart config:\", result.get(\"chart_config\"))\n",
    "print(\"\\nNumber of answer steps:\", len(result.get(\"answer\", [])))\n",
    "if result.get(\"answer\"):\n",
    "    print(\"\\nAnalysis (first 500 chars):\\n\", result[\"answer\"][0][:500])\n",
    "\n",
    "# If the last answer item is plotting code, execute it to render the chart\n",
    "if result.get(\"chart_config\") and result.get(\"answer\"):\n",
    "    chart_code = result[\"answer\"][-1]\n",
    "    exec(chart_code, globals(), locals())"
   ]
  }
 ],
 "metadata": {
  "kernelspec": {
   "display_name": "Python 3",
   "language": "python",
   "name": "python3"
  },
  "language_info": {
   "codemirror_mode": {
    "name": "ipython",
    "version": 3
   },
   "file_extension": ".py",
   "mimetype": "text/x-python",
   "name": "python",
   "nbconvert_exporter": "python",
   "pygments_lexer": "ipython3",
   "version": "3.12.4"
  }
 },
 "nbformat": 4,
 "nbformat_minor": 5
}
